{
 "cells": [
  {
   "cell_type": "code",
   "execution_count": 1,
   "metadata": {
    "collapsed": true
   },
   "outputs": [],
   "source": [
    "import tensorflow as tf"
   ]
  },
  {
   "cell_type": "code",
   "execution_count": 2,
   "metadata": {
    "collapsed": false
   },
   "outputs": [
    {
     "data": {
      "text/plain": [
       "'\\ninput -> assign weights --> hidden layer 1 (activation function) --> weights -->hidden layer 2(act fun) --> weights -->output layer \\n\\ncompare output to intended output --> cost function (cross entropy)\\n\\noptimization function (optimizer) --> minimize cost(Adamoptimiser, SGD(stochastic gradient decent),AdaGrad etc)\\n\\nthen apply backpropagation \\n\\nevery cycle => feed forward(forward propagation) + back propagation\\n'"
      ]
     },
     "execution_count": 2,
     "metadata": {},
     "output_type": "execute_result"
    }
   ],
   "source": [
    "'''\n",
    "input -> assign weights --> hidden layer 1 (activation function) --> weights -->hidden layer 2(act fun) --> weights -->output layer \n",
    "\n",
    "compare output to intended output --> cost function (cross entropy)\n",
    "\n",
    "optimization function (optimizer) --> minimize cost(Adamoptimiser, SGD(stochastic gradient decent),AdaGrad etc)\n",
    "\n",
    "then apply backpropagation \n",
    "\n",
    "every cycle => feed forward(forward propagation) + back propagation\n",
    "'''"
   ]
  },
  {
   "cell_type": "code",
   "execution_count": 5,
   "metadata": {
    "collapsed": false
   },
   "outputs": [
    {
     "name": "stdout",
     "output_type": "stream",
     "text": [
      "Successfully downloaded train-images-idx3-ubyte.gz 9912422 bytes.\n",
      "Extracting /tmp/data/train-images-idx3-ubyte.gz\n",
      "Successfully downloaded train-labels-idx1-ubyte.gz 28881 bytes.\n",
      "Extracting /tmp/data/train-labels-idx1-ubyte.gz\n",
      "Successfully downloaded t10k-images-idx3-ubyte.gz 1648877 bytes.\n",
      "Extracting /tmp/data/t10k-images-idx3-ubyte.gz\n",
      "Successfully downloaded t10k-labels-idx1-ubyte.gz 4542 bytes.\n",
      "Extracting /tmp/data/t10k-labels-idx1-ubyte.gz\n"
     ]
    },
    {
     "data": {
      "text/plain": [
       "Datasets(train=<tensorflow.contrib.learn.python.learn.datasets.mnist.DataSet object at 0x000001F4EE2CE470>, validation=<tensorflow.contrib.learn.python.learn.datasets.mnist.DataSet object at 0x000001F4EE2CEF28>, test=<tensorflow.contrib.learn.python.learn.datasets.mnist.DataSet object at 0x000001F4EE2CE390>)"
      ]
     },
     "execution_count": 5,
     "metadata": {},
     "output_type": "execute_result"
    }
   ],
   "source": [
    "from tensorflow.examples.tutorials.mnist import input_data\n",
    "mnist = input_data.read_data_sets(\"/tmp/data/\",one_hot =True)\n",
    "mnist\n",
    "#one hot = True will prepare the labels like 0 >[1,0,0,0,0,0,0,0,0], 1 >[0,1,0,0,0,0,0,0,0,0]"
   ]
  },
  {
   "cell_type": "code",
   "execution_count": 31,
   "metadata": {
    "collapsed": true
   },
   "outputs": [],
   "source": [
    "#setup Deep neural network\n",
    "n_nodes_hl1 = 900\n",
    "n_nodes_hl2 = 1000\n",
    "n_nodes_hl3 = 1000\n",
    "n_nodes_hl4 = 1000\n",
    "\n",
    "n_classes =10\n",
    "batch_size =100\n",
    "\n",
    "n_input =784\n",
    "\n",
    "#array of image is reshaped from 28X28 to array of 784 pixels\n",
    "x =tf.placeholder('float',[None,n_input])\n",
    "y =tf.placeholder('float')\n",
    "\n",
    "def define_neural_network_model(data):\n",
    "    \n",
    "    hidden_1_layer = {\"weights\": tf.Variable(tf.random_normal([n_input,n_nodes_hl1])),\n",
    "                     \"biases\" : tf.Variable(tf.random_normal([n_nodes_hl1]))}\n",
    "    hidden_2_layer = {\"weights\": tf.Variable(tf.random_normal([n_nodes_hl1,n_nodes_hl2])),\n",
    "                     \"biases\" : tf.Variable(tf.random_normal([n_nodes_hl2]))}\n",
    "    hidden_3_layer = {\"weights\": tf.Variable(tf.random_normal([n_nodes_hl2,n_nodes_hl3])),\n",
    "                     \"biases\" : tf.Variable(tf.random_normal([n_nodes_hl3]))}\n",
    "    hidden_4_layer = {\"weights\": tf.Variable(tf.random_normal([n_nodes_hl3,n_nodes_hl4])),\n",
    "                     \"biases\" : tf.Variable(tf.random_normal([n_nodes_hl3]))}\n",
    "    output_layer = {\"weights\": tf.Variable(tf.random_normal([n_nodes_hl4,n_classes])),\n",
    "                     \"biases\" : tf.Variable(tf.random_normal([n_classes]))}\n",
    "    \n",
    "    #Layer 1\n",
    "    #(input_data * weights) +bias\n",
    "    l1 = tf.add(tf.matmul(data,hidden_1_layer[\"weights\"]), hidden_1_layer[\"biases\"])\n",
    "    #activation function\n",
    "    l1 =tf.nn.relu(l1)\n",
    "    \n",
    "    #Layer 2\n",
    "    #(input_data * weights) +bias\n",
    "    l2 = tf.add(tf.matmul(l1,hidden_2_layer[\"weights\"]), hidden_2_layer[\"biases\"])\n",
    "    #activation function\n",
    "    l2 =tf.nn.relu(l2)\n",
    "    \n",
    "    #Layer 3\n",
    "    #(input_data * weights) +bias\n",
    "    l3 = tf.add(tf.matmul(l2,hidden_3_layer[\"weights\"]), hidden_3_layer[\"biases\"])\n",
    "    #activation function\n",
    "    l3 =tf.nn.relu(l3)\n",
    "    \n",
    "    #Layer 4\n",
    "    #(input_data * weights) +bias\n",
    "    l4 = tf.add(tf.matmul(l3,hidden_4_layer[\"weights\"]), hidden_4_layer[\"biases\"])\n",
    "    #activation function\n",
    "    l4 =tf.nn.relu(l4)\n",
    "    \n",
    "    #output layer \n",
    "    output =  tf.matmul(l4,output_layer[\"weights\"])+ output_layer[\"biases\"]\n",
    "    \n",
    "    return output\n",
    "    "
   ]
  },
  {
   "cell_type": "code",
   "execution_count": 34,
   "metadata": {
    "collapsed": true
   },
   "outputs": [],
   "source": [
    "def train_neural_network(x):\n",
    "    prediction = define_neural_network_model(x) #we have setup neaural network\n",
    "    cost = tf.reduce_mean(tf.nn.softmax_cross_entropy_with_logits(prediction,y)) #now we know the cost function\n",
    "    \n",
    "    #Now we have to minimize the cost\n",
    "    optimizer = tf.train.AdamOptimizer().minimize(cost)\n",
    "    #Adamoptimizer have a learning rate and it is by default 0.001\n",
    "    \n",
    "    hm_epochs =50 #number of iteration\n",
    "    \n",
    "    with tf.Session() as sess:\n",
    "        sess.run(tf.initialize_all_variables())\n",
    "        \n",
    "        for epoch in range(hm_epochs):\n",
    "            epoch_loss =0\n",
    "            for _ in range(int(mnist.train.num_examples/batch_size)):\n",
    "                epoch_x,epoch_y = mnist.train.next_batch(batch_size)\n",
    "                _,c = sess.run([optimizer,cost],feed_dict = {x:epoch_x,y:epoch_y})\n",
    "                epoch_loss += c\n",
    "            print(\"Epoch \", epoch,\" completed out of \", hm_epochs, \" Loss: \",epoch_loss)\n",
    "        \n",
    "        correct = tf.equal(tf.argmax(prediction,1),tf.argmax(y,1))\n",
    "        \n",
    "        accuracy  = tf.reduce_mean(tf.cast(correct,'float'))\n",
    "        \n",
    "        print(\"Accuracy: \",accuracy.eval({x:mnist.test.images,y: mnist.test.labels}))"
   ]
  },
  {
   "cell_type": "code",
   "execution_count": 35,
   "metadata": {
    "collapsed": false,
    "scrolled": true
   },
   "outputs": [
    {
     "name": "stdout",
     "output_type": "stream",
     "text": [
      "WARNING:tensorflow:From <ipython-input-34-afcee994ab78>:12 in train_neural_network.: initialize_all_variables (from tensorflow.python.ops.variables) is deprecated and will be removed after 2017-03-02.\n",
      "Instructions for updating:\n",
      "Use `tf.global_variables_initializer` instead.\n",
      "Epoch  0  completed out of  50  Loss:  65424983.3528\n",
      "Epoch  1  completed out of  50  Loss:  13499517.9939\n",
      "Epoch  2  completed out of  50  Loss:  5955378.23832\n",
      "Epoch  3  completed out of  50  Loss:  3403822.63532\n",
      "Epoch  4  completed out of  50  Loss:  2219695.52185\n",
      "Epoch  5  completed out of  50  Loss:  1839705.68848\n",
      "Epoch  6  completed out of  50  Loss:  1757557.08408\n",
      "Epoch  7  completed out of  50  Loss:  1718895.95256\n",
      "Epoch  8  completed out of  50  Loss:  1565534.27953\n",
      "Epoch  9  completed out of  50  Loss:  1410825.53705\n",
      "Epoch  10  completed out of  50  Loss:  1256213.89155\n",
      "Epoch  11  completed out of  50  Loss:  1297981.78045\n",
      "Epoch  12  completed out of  50  Loss:  902020.509628\n",
      "Epoch  13  completed out of  50  Loss:  1033535.4728\n",
      "Epoch  14  completed out of  50  Loss:  1019370.46224\n",
      "Epoch  15  completed out of  50  Loss:  937238.767372\n",
      "Epoch  16  completed out of  50  Loss:  734873.87953\n",
      "Epoch  17  completed out of  50  Loss:  752268.342564\n",
      "Epoch  18  completed out of  50  Loss:  654096.983924\n",
      "Epoch  19  completed out of  50  Loss:  679768.526675\n",
      "Epoch  20  completed out of  50  Loss:  902916.033499\n",
      "Epoch  21  completed out of  50  Loss:  802741.220319\n",
      "Epoch  22  completed out of  50  Loss:  470544.622703\n",
      "Epoch  23  completed out of  50  Loss:  667078.349123\n",
      "Epoch  24  completed out of  50  Loss:  550125.165117\n",
      "Epoch  25  completed out of  50  Loss:  582684.729227\n",
      "Epoch  26  completed out of  50  Loss:  545548.842388\n",
      "Epoch  27  completed out of  50  Loss:  400427.598169\n",
      "Epoch  28  completed out of  50  Loss:  485509.936512\n",
      "Epoch  29  completed out of  50  Loss:  457554.882162\n",
      "Epoch  30  completed out of  50  Loss:  522857.676921\n",
      "Epoch  31  completed out of  50  Loss:  364243.905351\n",
      "Epoch  32  completed out of  50  Loss:  403021.427175\n",
      "Epoch  33  completed out of  50  Loss:  581794.860106\n",
      "Epoch  34  completed out of  50  Loss:  434381.258575\n",
      "Epoch  35  completed out of  50  Loss:  307500.102407\n",
      "Epoch  36  completed out of  50  Loss:  327321.000652\n",
      "Epoch  37  completed out of  50  Loss:  254594.74584\n",
      "Epoch  38  completed out of  50  Loss:  290104.417846\n",
      "Epoch  39  completed out of  50  Loss:  412003.615952\n",
      "Epoch  40  completed out of  50  Loss:  427532.527283\n",
      "Epoch  41  completed out of  50  Loss:  308337.187613\n",
      "Epoch  42  completed out of  50  Loss:  299110.869408\n",
      "Epoch  43  completed out of  50  Loss:  235307.051249\n",
      "Epoch  44  completed out of  50  Loss:  249609.554596\n",
      "Epoch  45  completed out of  50  Loss:  301130.508537\n",
      "Epoch  46  completed out of  50  Loss:  289611.594494\n",
      "Epoch  47  completed out of  50  Loss:  181899.170224\n",
      "Epoch  48  completed out of  50  Loss:  326562.125559\n",
      "Epoch  49  completed out of  50  Loss:  282204.511193\n",
      "Accuracy:  0.972\n"
     ]
    }
   ],
   "source": [
    "train_neural_network(x)"
   ]
  },
  {
   "cell_type": "code",
   "execution_count": null,
   "metadata": {
    "collapsed": true
   },
   "outputs": [],
   "source": []
  }
 ],
 "metadata": {
  "kernelspec": {
   "display_name": "Python 3",
   "language": "python",
   "name": "python3"
  },
  "language_info": {
   "codemirror_mode": {
    "name": "ipython",
    "version": 3
   },
   "file_extension": ".py",
   "mimetype": "text/x-python",
   "name": "python",
   "nbconvert_exporter": "python",
   "pygments_lexer": "ipython3",
   "version": "3.5.2"
  }
 },
 "nbformat": 4,
 "nbformat_minor": 2
}
